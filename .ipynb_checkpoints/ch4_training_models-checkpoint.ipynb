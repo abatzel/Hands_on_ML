{
 "cells": [
  {
   "cell_type": "markdown",
   "metadata": {},
   "source": [
    "## This file is for following along with Chapter 4: Training Linear Models\n",
    "#### Code is from: https://github.com/ageron/handson-ml2/blob/master/04_training_linear_models.ipynb"
   ]
  },
  {
   "cell_type": "code",
   "execution_count": 39,
   "metadata": {},
   "outputs": [
    {
     "name": "stdout",
     "output_type": "stream",
     "text": [
      "The current working directory is C:\\Users\\abatzel\\repos\\Hands_on_ML\n",
      "Creation of the directory .\\images\\4_training_models failed - directory may already exist\n"
     ]
    }
   ],
   "source": [
    "import sys\n",
    "assert sys.version_info >= (3, 5)\n",
    "\n",
    "import sklearn as sk\n",
    "assert sk.__version__ >= '0.20'\n",
    "\n",
    "import numpy as np\n",
    "import os\n",
    "\n",
    "import matplotlib as mpl\n",
    "import matplotlib.pyplot as plt\n",
    "mpl.rc('axes', labelsize = 14)\n",
    "mpl.rc('xtick', labelsize = 12)\n",
    "mpl.rc('ytick', labelsize = 12)\n",
    "\n",
    "# directories for saving\n",
    "PROJECT_ROOT_DIR = '.'\n",
    "path = os.getcwd()\n",
    "print (\"The current working directory is %s\" % path)\n",
    "CHAPTER_ID = '4_training_models'\n",
    "IMAGES_PATH = os.path.join(PROJECT_ROOT_DIR, 'images', CHAPTER_ID)\n",
    "\n",
    "# make directory for IMAGES_PATH if does not already exist\n",
    "try:\n",
    "    os.mkdir(IMAGES_PATH)\n",
    "except OSError:\n",
    "    print (\"Creation of the directory %s failed - directory may already exist\" % IMAGES_PATH)\n",
    "else:\n",
    "    print (\"Successfully created the directory %s \" % IMAGES_PATH)\n",
    "\n",
    "def save_fig( fig_id, tight_layout = True, fig_extension = 'png', resolution = 300):\n",
    "             path = os.path.join(IMAGES_PATH, fig_id + '.' + fig_extension)\n",
    "             print( 'Saving figure:', fig_id )\n",
    "             if tight_layout:\n",
    "                 plt.tight_layout()\n",
    "             plt.savefig(path, format = fig_extension, dpi = resolution)"
   ]
  },
  {
   "cell_type": "markdown",
   "metadata": {},
   "source": [
    "#### Linear regression using the normal equation"
   ]
  },
  {
   "cell_type": "code",
   "execution_count": 35,
   "metadata": {},
   "outputs": [
    {
     "name": "stdout",
     "output_type": "stream",
     "text": [
      "C:\\Users\\abatzel\\repos\\Hands_on_ML\n",
      ".\\images\\4_training_models\n"
     ]
    },
    {
     "data": {
      "image/png": "[encoded data removed]",
      "text/plain": [
       "<Figure size 432x288 with 1 Axes>"
      ]
     },
     "metadata": {
      "needs_background": "light"
     },
     "output_type": "display_data"
    }
   ],
   "source": [
    "np.random.seed(40)\n",
    "X = 2 * np.random.rand(100,1)\n",
    "y = 4 + 3 * X + np.random.randn(100,1)\n",
    "\n",
    "plt.plot(X, y, 'b.')\n",
    "plt.title('Generated Data', fontsize = 20)\n",
    "plt.axis([0,2,0,15])\n",
    "plt.xlabel('$x_1$', fontsize = 18)\n",
    "plt.ylabel('$y$', rotation = 0, fontsize = 18)\n",
    "\n",
    "print(os.getcwd())\n",
    "# save_fig('generated_data_plot')\n",
    "print(IMAGES_PATH)"
   ]
  },
  {
   "cell_type": "code",
   "execution_count": null,
   "metadata": {},
   "outputs": [],
   "source": []
  }
 ],
 "metadata": {
  "kernelspec": {
   "display_name": "Python 3",
   "language": "python",
   "name": "python3"
  },
  "language_info": {
   "codemirror_mode": {
    "name": "ipython",
    "version": 3
   },
   "file_extension": ".py",
   "mimetype": "text/x-python",
   "name": "python",
   "nbconvert_exporter": "python",
   "pygments_lexer": "ipython3",
   "version": "3.7.3"
  }
 },
 "nbformat": 4,
 "nbformat_minor": 2
}
